{
 "cells": [
  {
   "cell_type": "code",
   "execution_count": 1,
   "metadata": {},
   "outputs": [],
   "source": [
    "import pandas as pd"
   ]
  },
  {
   "cell_type": "code",
   "execution_count": 2,
   "metadata": {},
   "outputs": [],
   "source": [
    "df = pd.read_parquet('/home/mpaul/projects/mpaul/data_processing/data-processing/data/twc_data/tr_ext_Solana_alldata_mapped_100per.parquet')"
   ]
  },
  {
   "cell_type": "code",
   "execution_count": 3,
   "metadata": {},
   "outputs": [
    {
     "data": {
      "text/plain": [
       "(1946378, 282)"
      ]
     },
     "execution_count": 3,
     "metadata": {},
     "output_type": "execute_result"
    }
   ],
   "source": [
    "df.shape"
   ]
  },
  {
   "cell_type": "code",
   "execution_count": 4,
   "metadata": {},
   "outputs": [],
   "source": [
    "\n",
    "df = df[~((df['sport'].isin([53, 5353]) | df['dport'].isin([53, 5353])) | df['refined_app_label'].isna())]"
   ]
  },
  {
   "cell_type": "code",
   "execution_count": 5,
   "metadata": {},
   "outputs": [
    {
     "data": {
      "text/plain": [
       "(1170725, 282)"
      ]
     },
     "execution_count": 5,
     "metadata": {},
     "output_type": "execute_result"
    }
   ],
   "source": [
    "df.shape"
   ]
  },
  {
   "cell_type": "code",
   "execution_count": 6,
   "metadata": {},
   "outputs": [
    {
     "name": "stdout",
     "output_type": "stream",
     "text": [
      "Total rows with NaN values: 1170725\n",
      "\n",
      "NaN values per column:\n",
      "timeFirst_bwd           46444\n",
      "timeLast_bwd            46444\n",
      "duration_bwd            46444\n",
      "srcIPOrg_bwd            46444\n",
      "firstTimeStamp_bwd      46444\n",
      "                       ...   \n",
      "dnsAAAqF                46444\n",
      "dnsQname              1170725\n",
      "dnsAname              1170722\n",
      "dnsAPname             1170722\n",
      "dns4Aaddress          1170725\n",
      "Length: 199, dtype: int64\n"
     ]
    }
   ],
   "source": [
    "# Check number of rows with NaN values in any column\n",
    "print(\"Total rows with NaN values:\", df.isna().any(axis=1).sum())\n",
    "\n",
    "# Display count of NaN values per column\n",
    "print(\"\\nNaN values per column:\")\n",
    "print(df.isna().sum()[df.isna().sum() > 0])\n"
   ]
  },
  {
   "cell_type": "code",
   "execution_count": 7,
   "metadata": {},
   "outputs": [
    {
     "name": "stdout",
     "output_type": "stream",
     "text": [
      "After filling NaN values:\n",
      "Total rows with NaN values: 0\n",
      "\n",
      "NaN values per column:\n",
      "Series([], dtype: int64)\n"
     ]
    }
   ],
   "source": [
    "# Fill NaN values with 0 across all columns\n",
    "df = df.fillna(0)\n",
    "\n",
    "# Verify the changes\n",
    "print(\"After filling NaN values:\")\n",
    "print(\"Total rows with NaN values:\", df.isna().any(axis=1).sum())\n",
    "print(\"\\nNaN values per column:\")\n",
    "print(df.isna().sum()[df.isna().sum() > 0])\n"
   ]
  },
  {
   "cell_type": "code",
   "execution_count": 8,
   "metadata": {},
   "outputs": [
    {
     "data": {
      "text/plain": [
       "array(['2020a_Wireline_Ethernet', '2020c_Mobile_Wifi',\n",
       "       '2021a_Wireline_Ethernet', '2021c_Mobile_LTE',\n",
       "       '2022a_Wireline_Ethernet', '2023a_Wireline_Ethernet',\n",
       "       '2023c_Mobile_LTE', '2023e_MacOS_Wifi', '2024ag_Wireline_Ethernet',\n",
       "       '2024a_Wireline_Ethernet', '2024cg_Mobile_LTE', '2024c_Mobile_LTE',\n",
       "       '2024e_MacOS_Wifi', 'Homeoffice2024ag_Wireline_Ethernet',\n",
       "       'Homeoffice2024a_Wireline_Ethernet', 'Homeoffice2024c_Mobile_LTE',\n",
       "       'Homeoffice2024e_MacOS_WiFi', 'Homeoffice2025cg_Mobile_LTE',\n",
       "       'Test2023a_Wireline_Ethernet', 'Test2023c_Mobile_LTE',\n",
       "       'Test2023e_MacOS_Wifi', 'Test2024ag_Wireline_Ethernet',\n",
       "       'Test2024a_Wireline_Ethernet', 'Test2024cg_Mobile_LTE',\n",
       "       'Test2024c_Mobile_LTE', 'Test2024e_MacOS_Wifi'], dtype=object)"
      ]
     },
     "execution_count": 8,
     "metadata": {},
     "output_type": "execute_result"
    }
   ],
   "source": [
    "df.data_source.unique()"
   ]
  },
  {
   "cell_type": "code",
   "execution_count": 9,
   "metadata": {},
   "outputs": [
    {
     "name": "stdout",
     "output_type": "stream",
     "text": [
      "Shape of d1 (Solana dataset): (1034650, 282)\n",
      "Shape of d2 (SolanaTest dataset): (102484, 282)\n",
      "Shape of d3 (Solana Home Office dataset): (33591, 282)\n"
     ]
    }
   ],
   "source": [
    "d1_data_sources = ['2020a_Wireline_Ethernet', \n",
    "'2020c_Mobile_Wifi',\n",
    "'2021a_Wireline_Ethernet', \n",
    "'2021c_Mobile_LTE',\n",
    "'2022a_Wireline_Ethernet', \n",
    "'2023a_Wireline_Ethernet',\n",
    "'2023c_Mobile_LTE', \n",
    "'2023e_MacOS_Wifi', \n",
    "'2024ag_Wireline_Ethernet',\n",
    "'2024a_Wireline_Ethernet', \n",
    "'2024cg_Mobile_LTE', \n",
    "'2024c_Mobile_LTE',\n",
    "'2024e_MacOS_Wifi']\n",
    "\n",
    "\n",
    "d3_data_sources= ['Homeoffice2024ag_Wireline_Ethernet',\n",
    "'Homeoffice2024a_Wireline_Ethernet', \n",
    "'Homeoffice2024c_Mobile_LTE',\n",
    "'Homeoffice2024e_MacOS_WiFi', \n",
    "'Homeoffice2025cg_Mobile_LTE']\n",
    "\n",
    "d2_data_sources = ['Test2023a_Wireline_Ethernet', \n",
    "'Test2023c_Mobile_LTE',\n",
    "'Test2023e_MacOS_Wifi', \n",
    "'Test2024ag_Wireline_Ethernet',\n",
    "'Test2024a_Wireline_Ethernet', \n",
    "'Test2024cg_Mobile_LTE',\n",
    "'Test2024c_Mobile_LTE', \n",
    "'Test2024e_MacOS_Wifi']\n",
    "\n",
    "# Create datasets based on data_source values\n",
    "d1 = df[df['data_source'].isin(d1_data_sources)].copy()\n",
    "d2 = df[df['data_source'].isin(d2_data_sources)].copy()\n",
    "d3 = df[df['data_source'].isin(d3_data_sources)].copy()\n",
    "\n",
    "# Print the shapes of each dataset to verify\n",
    "print(\"Shape of d1 (Solana dataset):\", d1.shape)\n",
    "print(\"Shape of d2 (SolanaTest dataset):\", d2.shape) \n",
    "print(\"Shape of d3 (Solana Home Office dataset):\", d3.shape)\n",
    "\n",
    "# Save the datasets to parquet files\n",
    "d1.to_csv('/home/mpaul/projects/mpaul/data_processing/data-processing/data/twc_data/d1.csv')\n",
    "d2.to_csv('/home/mpaul/projects/mpaul/data_processing/data-processing/data/twc_data/d2.csv')\n",
    "d3.to_csv('/home/mpaul/projects/mpaul/data_processing/data-processing/data/twc_data/d3.csv')\n"
   ]
  }
 ],
 "metadata": {
  "kernelspec": {
   "display_name": ".venv",
   "language": "python",
   "name": "python3"
  },
  "language_info": {
   "codemirror_mode": {
    "name": "ipython",
    "version": 3
   },
   "file_extension": ".py",
   "mimetype": "text/x-python",
   "name": "python",
   "nbconvert_exporter": "python",
   "pygments_lexer": "ipython3",
   "version": "3.8.10"
  }
 },
 "nbformat": 4,
 "nbformat_minor": 2
}
